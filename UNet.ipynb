{
 "cells": [
  {
   "cell_type": "code",
   "execution_count": 51,
   "id": "9ae4597089242d65",
   "metadata": {
    "collapsed": false,
    "ExecuteTime": {
     "end_time": "2023-11-04T01:47:20.857504Z",
     "start_time": "2023-11-04T01:47:20.836751Z"
    }
   },
   "outputs": [],
   "source": [
    "import tensorflow as tf\n",
    "import tensorflow.keras as keras\n",
    "from tensorflow.keras.models import Model, Sequential\n",
    "from tensorflow.keras.layers import Input, Conv2D, Conv2DTranspose, MaxPooling2D, UpSampling2D, Cropping2D, Concatenate,ReLU\n",
    "from tensorflow.keras.activations import sigmoid\n",
    "\n",
    "import os, cv2, numpy as np, matplotlib.pyplot as plt"
   ]
  },
  {
   "cell_type": "markdown",
   "id": "9e0a46e182975b7e",
   "metadata": {
    "collapsed": false
   },
   "source": [
    "### UNet Contracting block\n",
    "Performs two unpadded convolutions with a specified number of filters and downsample through max-pooling."
   ]
  },
  {
   "cell_type": "code",
   "execution_count": 52,
   "id": "2298ecb7873cffcd",
   "metadata": {
    "collapsed": false,
    "ExecuteTime": {
     "end_time": "2023-11-04T01:47:21.206293Z",
     "start_time": "2023-11-04T01:47:21.190877Z"
    }
   },
   "outputs": [],
   "source": [
    "def contracting_block(input_layer, filters, padding, kernel_size = 3):\n",
    "    conv = Conv2D(filters = filters,\n",
    "                  kernel_size = kernel_size,\n",
    "                  activation = tf.nn.relu,\n",
    "                  padding = padding)(input_layer)\n",
    "\n",
    "    conv = Conv2D(filters = filters,\n",
    "                  kernel_size = kernel_size,\n",
    "                  activation = tf.nn.relu,\n",
    "                  padding = padding)(conv)\n",
    "\n",
    "    pool = MaxPooling2D(pool_size = 2, strides = 2)(conv)\n",
    "\n",
    "    return conv, pool"
   ]
  },
  {
   "cell_type": "markdown",
   "id": "eed8ec8059352076",
   "metadata": {
    "collapsed": false
   },
   "source": [
    "### UNet Bottleneck block\n",
    "Performs 2 unpadded convolutions with a specified number of filters."
   ]
  },
  {
   "cell_type": "code",
   "execution_count": 53,
   "id": "f2f1ae34199189a",
   "metadata": {
    "collapsed": false,
    "ExecuteTime": {
     "end_time": "2023-11-04T01:47:21.489174Z",
     "start_time": "2023-11-04T01:47:21.472903Z"
    }
   },
   "outputs": [],
   "source": [
    "def bottleneck_block(input_layer, filters, padding, kernel_size = 3, strides = 1):\n",
    "    conv = Conv2D(filters = filters,\n",
    "                  kernel_size = kernel_size,                \n",
    "                  strides = strides,\n",
    "                  padding = padding,\n",
    "                  activation = 'relu')(input_layer)\n",
    "\n",
    "    conv = Conv2D(filters = filters,\n",
    "                  kernel_size = kernel_size,\n",
    "                  strides = strides,\n",
    "                  padding = padding,\n",
    "                  activation = 'relu')(conv)\n",
    "\n",
    "    return conv"
   ]
  },
  {
   "cell_type": "markdown",
   "source": [
    "### Tensor cropping\n",
    "Center crops the source tensor to the size of the target tensor size."
   ],
   "metadata": {
    "collapsed": false
   },
   "id": "a8610a8f6e6161e0"
  },
  {
   "cell_type": "code",
   "execution_count": 54,
   "outputs": [],
   "source": [
    "def crop_tensor(source_tensor, target_tensor):\n",
    "    target_tensor_size = target_tensor.shape[2]\n",
    "    source_tensor_size = source_tensor.shape[2]\n",
    "\n",
    "    delta = (source_tensor_size - target_tensor_size)//2\n",
    "    cropped_source = source_tensor[:, delta:source_tensor_size - delta, delta:source_tensor_size - delta, :]\n",
    "    return cropped_source"
   ],
   "metadata": {
    "collapsed": false,
    "ExecuteTime": {
     "end_time": "2023-11-04T01:47:21.773942Z",
     "start_time": "2023-11-04T01:47:21.757617Z"
    }
   },
   "id": "34da6286065c758a"
  },
  {
   "cell_type": "markdown",
   "source": [
    "### UNet Expansive block\n",
    "Transpose convolution which doubles the spatial dimensions of the incoming feature maps and creates the skip connections with the corresponding \n",
    "feature maps from the downsample path"
   ],
   "metadata": {
    "collapsed": false
   },
   "id": "bdb64da5ddf931a7"
  },
  {
   "cell_type": "code",
   "execution_count": 55,
   "outputs": [],
   "source": [
    "def expansive_block(input_layer, skip_conn_layer, filters, padding, kernel_size = 3):\n",
    "    trans_conv = Conv2DTranspose(filters = filters,\n",
    "                                kernel_size = (2, 2),\n",
    "                                strides = 2,\n",
    "                                padding = padding)(input_layer)\n",
    "\n",
    "    cropped = crop_tensor(skip_conn_layer, trans_conv)\n",
    "    concat = Concatenate()([trans_conv, cropped])\n",
    "\n",
    "    up_conv = Conv2D(filters = filters,\n",
    "                     kernel_size = kernel_size,\n",
    "                     padding = padding,\n",
    "                     activation = tf.nn.relu)(concat)\n",
    "\n",
    "    up_conv = Conv2D(filters = filters,\n",
    "                     kernel_size = kernel_size,\n",
    "                     padding = padding,\n",
    "                     activation = tf.nn.relu)(up_conv)\n",
    "\n",
    "    return up_conv"
   ],
   "metadata": {
    "collapsed": false,
    "ExecuteTime": {
     "end_time": "2023-11-04T01:47:22.227574Z",
     "start_time": "2023-11-04T01:47:22.214168Z"
    }
   },
   "id": "b40cb724d485ced5"
  },
  {
   "cell_type": "markdown",
   "source": [
    "### Buld the Model"
   ],
   "metadata": {
    "collapsed": false
   },
   "id": "e976bda113e13a56"
  },
  {
   "cell_type": "code",
   "execution_count": 58,
   "outputs": [],
   "source": [
    "def build_unet(input_shape, filters, padding = 'same'): \n",
    "    input = Input(input_shape)\n",
    "    \n",
    "    # the contracting path\n",
    "    conv1, pool1 = contracting_block(input_layer = input, filters = filters[0], padding = padding)\n",
    "    conv2, pool2 = contracting_block(input_layer = pool1, filters = filters[1], padding = padding)\n",
    "    conv3, pool3 = contracting_block(input_layer = pool2, filters = filters[2], padding = padding)\n",
    "    conv4, pool4 = contracting_block(input_layer = pool3, filters = filters[3], padding = padding)\n",
    "    \n",
    "    # bottleneck block\n",
    "    bottleNeck = bottleneck_block(pool4, filters = filters[4], padding = padding)\n",
    "    \n",
    "    # the expansive path\n",
    "    upConv1 = expansive_block(bottleNeck, conv4, filters = filters[3], padding = padding)\n",
    "    upConv2 = expansive_block(upConv1, conv3, filters = filters[2], padding = padding)\n",
    "    upConv3 = expansive_block(upConv2, conv2, filters = filters[1], padding = padding)\n",
    "    upConv4 = expansive_block(upConv3, conv1, filters = filters[0], padding = padding)\n",
    "    \n",
    "    output = Conv2D(1, (1, 1), activation = sigmoid)(upConv4)\n",
    "    return Model(input, output, name = \"unet\")"
   ],
   "metadata": {
    "collapsed": false,
    "ExecuteTime": {
     "end_time": "2023-11-04T01:47:27.422221Z",
     "start_time": "2023-11-04T01:47:27.397980Z"
    }
   },
   "id": "63959e02112cd93d"
  },
  {
   "cell_type": "markdown",
   "source": [
    "### Data Generator"
   ],
   "metadata": {
    "collapsed": false
   },
   "id": "8cd1057b30558e88"
  },
  {
   "cell_type": "code",
   "execution_count": 59,
   "outputs": [],
   "source": [
    "class DataGenerator(keras.utils.Sequence):\n",
    "    def __init__(self, image_ids, img_path, batch_size = 8, image_size = 128):\n",
    "        self.ids = image_ids\n",
    "        self.path = img_path\n",
    "        self.batch_size = batch_size\n",
    "        self.image_size = image_size\n",
    "        self.on_epoch_end()\n",
    "\n",
    "    def __load__(self, item):\n",
    "        full_image_path = os.path.join(self.path, item, \"images\", item) + \".png\"\n",
    "        mask_dir_path = os.path.join(self.path, item, \"masks/\")\n",
    "        all_masks = os.listdir(mask_dir_path)\n",
    "\n",
    "        # load the images\n",
    "        image = cv2.imread(full_image_path, 1)\n",
    "        image = cv2.resize(image, (self.image_size, self.image_size))\n",
    "\n",
    "        masked_img = np.zeros((self.image_size, self.image_size, 1))\n",
    "\n",
    "        # load and prepare the corresponding mask.\n",
    "        for mask in all_masks:\n",
    "            fullPath = mask_dir_path + mask\n",
    "            _masked_img = cv2.imread(fullPath, -1)\n",
    "            _masked_img = cv2.resize(_masked_img, (self.image_size, self.image_size))\n",
    "            _masked_img = np.expand_dims(_masked_img, axis = -1)\n",
    "            masked_img = np.maximum(masked_img, _masked_img)\n",
    "\n",
    "        # mormalize the mask and the image. \n",
    "        image = image/255.0\n",
    "        masked_img = masked_img/255.0\n",
    "\n",
    "        return image, masked_img\n",
    "\n",
    "    def __getitem__(self, index):\n",
    "        if(index + 1) * self.batch_size > len(self.ids):\n",
    "            self.batch_size = len(self.ids) - index * self.batch_size\n",
    "\n",
    "        # group the items into a batch.\n",
    "        batch = self.ids[index * self.batch_size : (index + 1) * self.batch_size]\n",
    "\n",
    "        image, mask = [], []\n",
    "\n",
    "        # load the items in the current batch\n",
    "        for item in batch:\n",
    "            img, masked_img = self.__load__(item)\n",
    "            image.append(img)\n",
    "            mask.append(masked_img)\n",
    "\n",
    "        image = np.array(image)\n",
    "        mask  = np.array(mask)\n",
    "\n",
    "        return image, mask\n",
    "\n",
    "    def __len__(self):\n",
    "        return int(np.ceil(len(self.ids)/float(self.batch_size)))\n"
   ],
   "metadata": {
    "collapsed": false,
    "ExecuteTime": {
     "end_time": "2023-11-04T01:47:28.000775Z",
     "start_time": "2023-11-04T01:47:27.990142Z"
    }
   },
   "id": "9e3eca92a586ca84"
  },
  {
   "cell_type": "markdown",
   "source": [
    "### Hyperparameters"
   ],
   "metadata": {
    "collapsed": false
   },
   "id": "7fca38707900e6d7"
  },
  {
   "cell_type": "code",
   "execution_count": 60,
   "outputs": [],
   "source": [
    "image_size = 256\n",
    "image_channels = 3\n",
    "image_dir = \"data/\"\n",
    "epochs = 20\n",
    "batch_size = 20\n",
    "validation_data_size = 100\n",
    "test_data_size = 50\n",
    "train_data_size = 520"
   ],
   "metadata": {
    "collapsed": false,
    "ExecuteTime": {
     "end_time": "2023-11-04T01:47:28.445428Z",
     "start_time": "2023-11-04T01:47:28.431273Z"
    }
   },
   "id": "7f8a46687afaa734"
  },
  {
   "cell_type": "markdown",
   "source": [
    "### Data Loading"
   ],
   "metadata": {
    "collapsed": false
   },
   "id": "62afcfa01e5988ec"
  },
  {
   "cell_type": "code",
   "execution_count": 61,
   "outputs": [],
   "source": [
    "\n",
    "image_ids = next(os.walk(image_dir))[1]\n",
    "\n",
    "# partition the data into train, test and validation sets.\n",
    "testing_data_ids = image_ids[:test_data_size]\n",
    "validation_data_ids = image_ids[test_data_size:validation_data_size+test_data_size]\n",
    "training_data_ids = image_ids[validation_data_size+test_data_size:]"
   ],
   "metadata": {
    "collapsed": false,
    "ExecuteTime": {
     "end_time": "2023-11-04T01:47:28.961739Z",
     "start_time": "2023-11-04T01:47:28.950771Z"
    }
   },
   "id": "b90303a9a563689e"
  },
  {
   "cell_type": "markdown",
   "source": [
    "### Model Compilation and Summary"
   ],
   "metadata": {
    "collapsed": false
   },
   "id": "16e3d608b0a04cc0"
  },
  {
   "cell_type": "code",
   "execution_count": 62,
   "outputs": [
    {
     "name": "stdout",
     "output_type": "stream",
     "text": [
      "Model: \"unet\"\n",
      "__________________________________________________________________________________________________\n",
      " Layer (type)                Output Shape                 Param #   Connected to                  \n",
      "==================================================================================================\n",
      " input_5 (InputLayer)        [(None, 256, 256, 3)]        0         []                            \n",
      "                                                                                                  \n",
      " conv2d_41 (Conv2D)          (None, 256, 256, 16)         448       ['input_5[0][0]']             \n",
      "                                                                                                  \n",
      " conv2d_42 (Conv2D)          (None, 256, 256, 16)         2320      ['conv2d_41[0][0]']           \n",
      "                                                                                                  \n",
      " max_pooling2d_12 (MaxPooli  (None, 128, 128, 16)         0         ['conv2d_42[0][0]']           \n",
      " ng2D)                                                                                            \n",
      "                                                                                                  \n",
      " conv2d_43 (Conv2D)          (None, 128, 128, 32)         4640      ['max_pooling2d_12[0][0]']    \n",
      "                                                                                                  \n",
      " conv2d_44 (Conv2D)          (None, 128, 128, 32)         9248      ['conv2d_43[0][0]']           \n",
      "                                                                                                  \n",
      " max_pooling2d_13 (MaxPooli  (None, 64, 64, 32)           0         ['conv2d_44[0][0]']           \n",
      " ng2D)                                                                                            \n",
      "                                                                                                  \n",
      " conv2d_45 (Conv2D)          (None, 64, 64, 64)           18496     ['max_pooling2d_13[0][0]']    \n",
      "                                                                                                  \n",
      " conv2d_46 (Conv2D)          (None, 64, 64, 64)           36928     ['conv2d_45[0][0]']           \n",
      "                                                                                                  \n",
      " max_pooling2d_14 (MaxPooli  (None, 32, 32, 64)           0         ['conv2d_46[0][0]']           \n",
      " ng2D)                                                                                            \n",
      "                                                                                                  \n",
      " conv2d_47 (Conv2D)          (None, 32, 32, 128)          73856     ['max_pooling2d_14[0][0]']    \n",
      "                                                                                                  \n",
      " conv2d_48 (Conv2D)          (None, 32, 32, 128)          147584    ['conv2d_47[0][0]']           \n",
      "                                                                                                  \n",
      " max_pooling2d_15 (MaxPooli  (None, 16, 16, 128)          0         ['conv2d_48[0][0]']           \n",
      " ng2D)                                                                                            \n",
      "                                                                                                  \n",
      " conv2d_49 (Conv2D)          (None, 16, 16, 256)          295168    ['max_pooling2d_15[0][0]']    \n",
      "                                                                                                  \n",
      " conv2d_50 (Conv2D)          (None, 16, 16, 256)          590080    ['conv2d_49[0][0]']           \n",
      "                                                                                                  \n",
      " conv2d_transpose_7 (Conv2D  (None, 32, 32, 128)          131200    ['conv2d_50[0][0]']           \n",
      " Transpose)                                                                                       \n",
      "                                                                                                  \n",
      " tf.__operators__.getitem_7  (None, 32, 32, 128)          0         ['conv2d_48[0][0]']           \n",
      "  (SlicingOpLambda)                                                                               \n",
      "                                                                                                  \n",
      " concatenate_7 (Concatenate  (None, 32, 32, 256)          0         ['conv2d_transpose_7[0][0]',  \n",
      " )                                                                   'tf.__operators__.getitem_7[0\n",
      "                                                                    ][0]']                        \n",
      "                                                                                                  \n",
      " conv2d_51 (Conv2D)          (None, 32, 32, 128)          295040    ['concatenate_7[0][0]']       \n",
      "                                                                                                  \n",
      " conv2d_52 (Conv2D)          (None, 32, 32, 128)          147584    ['conv2d_51[0][0]']           \n",
      "                                                                                                  \n",
      " conv2d_transpose_8 (Conv2D  (None, 64, 64, 64)           32832     ['conv2d_52[0][0]']           \n",
      " Transpose)                                                                                       \n",
      "                                                                                                  \n",
      " tf.__operators__.getitem_8  (None, 64, 64, 64)           0         ['conv2d_46[0][0]']           \n",
      "  (SlicingOpLambda)                                                                               \n",
      "                                                                                                  \n",
      " concatenate_8 (Concatenate  (None, 64, 64, 128)          0         ['conv2d_transpose_8[0][0]',  \n",
      " )                                                                   'tf.__operators__.getitem_8[0\n",
      "                                                                    ][0]']                        \n",
      "                                                                                                  \n",
      " conv2d_53 (Conv2D)          (None, 64, 64, 64)           73792     ['concatenate_8[0][0]']       \n",
      "                                                                                                  \n",
      " conv2d_54 (Conv2D)          (None, 64, 64, 64)           36928     ['conv2d_53[0][0]']           \n",
      "                                                                                                  \n",
      " conv2d_transpose_9 (Conv2D  (None, 128, 128, 32)         8224      ['conv2d_54[0][0]']           \n",
      " Transpose)                                                                                       \n",
      "                                                                                                  \n",
      " tf.__operators__.getitem_9  (None, 128, 128, 32)         0         ['conv2d_44[0][0]']           \n",
      "  (SlicingOpLambda)                                                                               \n",
      "                                                                                                  \n",
      " concatenate_9 (Concatenate  (None, 128, 128, 64)         0         ['conv2d_transpose_9[0][0]',  \n",
      " )                                                                   'tf.__operators__.getitem_9[0\n",
      "                                                                    ][0]']                        \n",
      "                                                                                                  \n",
      " conv2d_55 (Conv2D)          (None, 128, 128, 32)         18464     ['concatenate_9[0][0]']       \n",
      "                                                                                                  \n",
      " conv2d_56 (Conv2D)          (None, 128, 128, 32)         9248      ['conv2d_55[0][0]']           \n",
      "                                                                                                  \n",
      " conv2d_transpose_10 (Conv2  (None, 256, 256, 16)         2064      ['conv2d_56[0][0]']           \n",
      " DTranspose)                                                                                      \n",
      "                                                                                                  \n",
      " tf.__operators__.getitem_1  (None, 256, 256, 16)         0         ['conv2d_42[0][0]']           \n",
      " 0 (SlicingOpLambda)                                                                              \n",
      "                                                                                                  \n",
      " concatenate_10 (Concatenat  (None, 256, 256, 32)         0         ['conv2d_transpose_10[0][0]', \n",
      " e)                                                                  'tf.__operators__.getitem_10[\n",
      "                                                                    0][0]']                       \n",
      "                                                                                                  \n",
      " conv2d_57 (Conv2D)          (None, 256, 256, 16)         4624      ['concatenate_10[0][0]']      \n",
      "                                                                                                  \n",
      " conv2d_58 (Conv2D)          (None, 256, 256, 16)         2320      ['conv2d_57[0][0]']           \n",
      "                                                                                                  \n",
      " conv2d_59 (Conv2D)          (None, 256, 256, 1)          17        ['conv2d_58[0][0]']           \n",
      "                                                                                                  \n",
      "==================================================================================================\n",
      "Total params: 1941105 (7.40 MB)\n",
      "Trainable params: 1941105 (7.40 MB)\n",
      "Non-trainable params: 0 (0.00 Byte)\n",
      "__________________________________________________________________________________________________\n"
     ]
    }
   ],
   "source": [
    "model = build_unet(input_shape = (image_size, image_size, image_channels), filters = [16, 32, 64, 128, 256])\n",
    "model.compile(optimizer = \"adam\", loss = \"binary_crossentropy\", metrics = [\"acc\"])\n",
    "model.summary()"
   ],
   "metadata": {
    "collapsed": false,
    "ExecuteTime": {
     "end_time": "2023-11-04T01:47:29.847998Z",
     "start_time": "2023-11-04T01:47:29.697343Z"
    }
   },
   "id": "fe2acfa5a28ebdad"
  },
  {
   "cell_type": "code",
   "execution_count": 63,
   "outputs": [],
   "source": [
    "train_gen = DataGenerator(image_ids = training_data_ids,\n",
    "                                img_path = image_dir,\n",
    "                                image_size = image_size,\n",
    "                                batch_size = batch_size)\n",
    "\n",
    "valid_gen = DataGenerator(image_ids = validation_data_ids,\n",
    "                                img_path = image_dir,\n",
    "                                image_size = image_size,\n",
    "                                batch_size = batch_size)\n",
    "\n",
    "test_gen = DataGenerator(image_ids = testing_data_ids,\n",
    "                               img_path = image_dir,\n",
    "                               image_size = image_size,\n",
    "                               batch_size = batch_size)\n",
    "\n",
    "train_steps = len(training_data_ids)//batch_size\n",
    "valid_steps = len(validation_data_ids)//batch_size"
   ],
   "metadata": {
    "collapsed": false,
    "ExecuteTime": {
     "end_time": "2023-11-04T01:47:30.609613Z",
     "start_time": "2023-11-04T01:47:30.585688Z"
    }
   },
   "id": "6f888e425e7b3ff8"
  },
  {
   "cell_type": "markdown",
   "source": [
    "### Model Training"
   ],
   "metadata": {
    "collapsed": false
   },
   "id": "8e1df867931d6a2e"
  },
  {
   "cell_type": "code",
   "execution_count": 64,
   "outputs": [
    {
     "name": "stdout",
     "output_type": "stream",
     "text": [
      "Epoch 1/20\n",
      "26/26 [==============================] - 41s 2s/step - loss: 0.6403 - acc: 0.7833 - val_loss: 0.5491 - val_acc: 0.8463\n",
      "Epoch 2/20\n",
      "26/26 [==============================] - 39s 1s/step - loss: 0.4103 - acc: 0.8564 - val_loss: 0.3375 - val_acc: 0.8463\n",
      "Epoch 3/20\n",
      "26/26 [==============================] - 40s 2s/step - loss: 0.2826 - acc: 0.8564 - val_loss: 0.2567 - val_acc: 0.8463\n",
      "Epoch 4/20\n",
      "26/26 [==============================] - 40s 2s/step - loss: 0.2422 - acc: 0.8819 - val_loss: 0.3914 - val_acc: 0.8647\n",
      "Epoch 5/20\n",
      "26/26 [==============================] - 41s 2s/step - loss: 0.2340 - acc: 0.8906 - val_loss: 0.1976 - val_acc: 0.9043\n",
      "Epoch 6/20\n",
      "26/26 [==============================] - 41s 2s/step - loss: 0.1939 - acc: 0.9082 - val_loss: 0.1730 - val_acc: 0.9148\n",
      "Epoch 7/20\n",
      "26/26 [==============================] - 40s 2s/step - loss: 0.1838 - acc: 0.9189 - val_loss: 0.1840 - val_acc: 0.9128\n",
      "Epoch 8/20\n",
      "26/26 [==============================] - 42s 2s/step - loss: 0.1688 - acc: 0.9255 - val_loss: 0.1645 - val_acc: 0.9298\n",
      "Epoch 9/20\n",
      "26/26 [==============================] - 42s 2s/step - loss: 0.1373 - acc: 0.9409 - val_loss: 0.1387 - val_acc: 0.9376\n",
      "Epoch 10/20\n",
      "26/26 [==============================] - 40s 2s/step - loss: 0.1174 - acc: 0.9494 - val_loss: 0.1249 - val_acc: 0.9472\n",
      "Epoch 11/20\n",
      "26/26 [==============================] - 40s 2s/step - loss: 0.1052 - acc: 0.9543 - val_loss: 0.1084 - val_acc: 0.9523\n",
      "Epoch 12/20\n",
      "26/26 [==============================] - 40s 2s/step - loss: 0.1014 - acc: 0.9546 - val_loss: 0.1179 - val_acc: 0.9494\n",
      "Epoch 13/20\n",
      "26/26 [==============================] - 41s 2s/step - loss: 0.0928 - acc: 0.9587 - val_loss: 0.1012 - val_acc: 0.9547\n",
      "Epoch 14/20\n",
      "26/26 [==============================] - 40s 2s/step - loss: 0.0867 - acc: 0.9604 - val_loss: 0.0967 - val_acc: 0.9541\n",
      "Epoch 15/20\n",
      "26/26 [==============================] - 41s 2s/step - loss: 0.0831 - acc: 0.9610 - val_loss: 0.0927 - val_acc: 0.9570\n",
      "Epoch 16/20\n",
      "26/26 [==============================] - 41s 2s/step - loss: 0.0836 - acc: 0.9610 - val_loss: 0.0923 - val_acc: 0.9555\n",
      "Epoch 17/20\n",
      "26/26 [==============================] - 41s 2s/step - loss: 0.0795 - acc: 0.9625 - val_loss: 0.0871 - val_acc: 0.9581\n",
      "Epoch 18/20\n",
      "26/26 [==============================] - 41s 2s/step - loss: 0.0763 - acc: 0.9631 - val_loss: 0.0864 - val_acc: 0.9584\n",
      "Epoch 19/20\n",
      "26/26 [==============================] - 43s 2s/step - loss: 0.0768 - acc: 0.9629 - val_loss: 0.1085 - val_acc: 0.9496\n",
      "Epoch 20/20\n",
      "26/26 [==============================] - 41s 2s/step - loss: 0.0841 - acc: 0.9606 - val_loss: 0.0894 - val_acc: 0.9568\n"
     ]
    },
    {
     "data": {
      "text/plain": "<keras.src.callbacks.History at 0x287dd73a0>"
     },
     "execution_count": 64,
     "metadata": {},
     "output_type": "execute_result"
    }
   ],
   "source": [
    "model.fit(train_gen,\n",
    "          validation_data = valid_gen,\n",
    "          steps_per_epoch = train_steps,\n",
    "          validation_steps = valid_steps,\n",
    "          epochs = epochs)"
   ],
   "metadata": {
    "collapsed": false,
    "ExecuteTime": {
     "end_time": "2023-11-04T02:01:06.185617Z",
     "start_time": "2023-11-04T01:47:31.862789Z"
    }
   },
   "id": "fbc15d217e29a55"
  },
  {
   "cell_type": "markdown",
   "source": [
    "### Model Testing and Prediction Visualizations"
   ],
   "metadata": {
    "collapsed": false
   },
   "id": "ec729d6e0bab1dfb"
  },
  {
   "cell_type": "code",
   "execution_count": 65,
   "outputs": [],
   "source": [
    "def VisualizeImageAndMask(image, mask, prediction_img = None):\n",
    "    fig = plt.figure()\n",
    "    fig.subplots_adjust(hspace = 0.6, wspace = 0.6)\n",
    "    fig.suptitle('Image & Mask(s)', fontsize = 15)\n",
    "    fig.subplots_adjust(top = 1.15)\n",
    "\n",
    "    ax = fig.add_subplot(1, 3, 1)\n",
    "    ax.imshow(image)\n",
    "    setTitleAndRemoveTicks(ax, 'Microscopic\\nImage')\n",
    "\n",
    "    ax = fig.add_subplot(1, 3, 2)\n",
    "    ax.imshow(np.reshape(mask, (image_size, image_size)), cmap = \"gray\")\n",
    "    setTitleAndRemoveTicks(ax, 'Original\\nMask')\n",
    "\n",
    "    if prediction_img is not None:\n",
    "        ax = fig.add_subplot(1, 3, 3)\n",
    "        ax.imshow(np.reshape(prediction_img, (image_size, image_size)), cmap = \"gray\")\n",
    "        setTitleAndRemoveTicks(ax, 'Predicted\\nMask')\n",
    "\n",
    "def setTitleAndRemoveTicks(axes, title):\n",
    "    axes.title.set_text(title)\n",
    "    axes.set_xticks([])\n",
    "    axes.set_yticks([])"
   ],
   "metadata": {
    "collapsed": false,
    "ExecuteTime": {
     "end_time": "2023-11-04T02:01:06.192089Z",
     "start_time": "2023-11-04T02:01:06.186769Z"
    }
   },
   "id": "ce11cf558f6c4ee7"
  },
  {
   "cell_type": "code",
   "execution_count": 66,
   "outputs": [
    {
     "name": "stdout",
     "output_type": "stream",
     "text": [
      "1/1 [==============================] - 0s 424ms/step\n"
     ]
    },
    {
     "data": {
      "text/plain": "<Figure size 640x480 with 3 Axes>",
      "image/png": "[encoded data removed]"
     },
     "metadata": {},
     "output_type": "display_data"
    }
   ],
   "source": [
    "# get the test set images\n",
    "test_images, test_masks = test_gen.__getitem__(1)\n",
    "predicted_masks = model.predict(test_images)\n",
    "\n",
    "predicted_masks = predicted_masks > 0.5\n",
    "\n",
    "VisualizeImageAndMask(image = test_images[1], mask = test_masks[1], prediction_img = predicted_masks[1])\n"
   ],
   "metadata": {
    "collapsed": false,
    "ExecuteTime": {
     "end_time": "2023-11-04T02:01:07.314644Z",
     "start_time": "2023-11-04T02:01:06.189256Z"
    }
   },
   "id": "f1c672b749d6c2db"
  },
  {
   "cell_type": "markdown",
   "source": [
    "### Model Evaluation"
   ],
   "metadata": {
    "collapsed": false
   },
   "id": "5acdd30efb4ead7"
  },
  {
   "cell_type": "code",
   "execution_count": 67,
   "outputs": [
    {
     "name": "stdout",
     "output_type": "stream",
     "text": [
      "Evaluate on test data\n",
      "3/3 [==============================] - 2s 509ms/step - loss: 0.0658 - acc: 0.9682\n",
      "test loss, test acc: [0.06578090041875839, 0.9682382345199585]\n"
     ]
    }
   ],
   "source": [
    "print(\"Evaluate on test data\")\n",
    "results = model.evaluate(test_gen)\n",
    "print(\"test loss, test acc:\", results)"
   ],
   "metadata": {
    "collapsed": false,
    "ExecuteTime": {
     "end_time": "2023-11-04T02:01:09.768958Z",
     "start_time": "2023-11-04T02:01:07.313786Z"
    }
   },
   "id": "edc2d9747f19f858"
  },
  {
   "cell_type": "code",
   "execution_count": null,
   "outputs": [],
   "source": [],
   "metadata": {
    "collapsed": false
   },
   "id": "2e1395f5137dbb04"
  }
 ],
 "metadata": {
  "kernelspec": {
   "display_name": "Python 3 (ipykernel)",
   "language": "python",
   "name": "python3"
  },
  "language_info": {
   "codemirror_mode": {
    "name": "ipython",
    "version": 3
   },
   "file_extension": ".py",
   "mimetype": "text/x-python",
   "name": "python",
   "nbconvert_exporter": "python",
   "pygments_lexer": "ipython3",
   "version": "3.10.12"
  }
 },
 "nbformat": 4,
 "nbformat_minor": 5
}
