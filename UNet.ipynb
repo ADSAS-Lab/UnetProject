{
 "cells": [
  {
   "cell_type": "code",
   "execution_count": 56,
   "id": "9ae4597089242d65",
   "metadata": {
    "collapsed": false,
    "ExecuteTime": {
     "end_time": "2023-11-02T20:19:42.017529Z",
     "start_time": "2023-11-02T20:19:41.989172Z"
    }
   },
   "outputs": [],
   "source": [
    "import tensorflow as tf\n",
    "import tensorflow.keras as keras\n",
    "from tensorflow.keras.models import Model, Sequential\n",
    "from tensorflow.keras.layers import Input, Conv2D, Conv2DTranspose, MaxPooling2D, UpSampling2D, Cropping2D, Concatenate,ReLU\n",
    "from tensorflow.keras.activations import sigmoid\n",
    "\n",
    "import os, cv2, numpy as np, matplotlib.pyplot as plt"
   ]
  },
  {
   "cell_type": "markdown",
   "id": "9e0a46e182975b7e",
   "metadata": {
    "collapsed": false
   },
   "source": [
    "### UNet Contracting block\n",
    "Perform two unpadded convolutions with a specified number of filters and downsample through max-pooling."
   ]
  },
  {
   "cell_type": "code",
   "execution_count": 57,
   "id": "2298ecb7873cffcd",
   "metadata": {
    "collapsed": false,
    "ExecuteTime": {
     "end_time": "2023-11-02T20:19:43.053158Z",
     "start_time": "2023-11-02T20:19:43.041328Z"
    }
   },
   "outputs": [],
   "source": [
    "def contracting_block(input_layer, filters, padding, kernel_size = 3):\n",
    "    conv = Conv2D(filters = filters,\n",
    "                  kernel_size = kernel_size,\n",
    "                  activation = 'relu',\n",
    "                  padding = padding)(input_layer)\n",
    "\n",
    "    conv = Conv2D(filters = filters,\n",
    "                  kernel_size = kernel_size,\n",
    "                  activation = 'relu',\n",
    "                  padding = padding)(conv)\n",
    "\n",
    "    pool = MaxPooling2D(pool_size = 2,\n",
    "                        strides = 2)(conv)\n",
    "\n",
    "    return conv, pool"
   ]
  },
  {
   "cell_type": "markdown",
   "id": "eed8ec8059352076",
   "metadata": {
    "collapsed": false
   },
   "source": [
    "### UNet Bottleneck block\n",
    "Performs 2 unpadded convolutions with a specified number of filters."
   ]
  },
  {
   "cell_type": "code",
   "execution_count": 25,
   "id": "f2f1ae34199189a",
   "metadata": {
    "collapsed": false,
    "ExecuteTime": {
     "end_time": "2023-11-02T01:25:32.751592Z",
     "start_time": "2023-11-02T01:25:32.720140Z"
    }
   },
   "outputs": [],
   "source": [
    "def bottleneck_block(input_layer, filters, padding, kernel_size = 3, strides = 1):\n",
    "    conv = Conv2D(filters = filters,\n",
    "                  kernel_size = kernel_size,\n",
    "                  padding = padding,\n",
    "                  strides = strides,\n",
    "                  activation = 'relu')(input_layer)\n",
    "\n",
    "    conv = Conv2D(filters = filters,\n",
    "                  kernel_size = kernel_size,\n",
    "                  padding = padding,\n",
    "                  strides = strides,\n",
    "                  activation = 'relu')(conv)\n",
    "\n",
    "    return conv"
   ]
  },
  {
   "cell_type": "markdown",
   "id": "a8610a8f6e6161e0",
   "metadata": {
    "collapsed": false
   },
   "source": [
    "### UNet Expansive block\n",
    "Center crops the source tensor to the size of the target tensor size. The tensor shape format is [batchsize, height, width, channels]"
   ]
  },
  {
   "cell_type": "code",
   "execution_count": 26,
   "id": "34da6286065c758a",
   "metadata": {
    "collapsed": false,
    "ExecuteTime": {
     "end_time": "2023-11-02T01:25:36.679584Z",
     "start_time": "2023-11-02T01:25:36.658535Z"
    }
   },
   "outputs": [],
   "source": [
    "def crop_tensor(source_tensor, target_tensor):\n",
    "    target_tensor_size = target_tensor.shape[2]\n",
    "    source_tensor_size = source_tensor.shape[2]\n",
    "\n",
    "    # calculate the delta to ensure correct cropping.\n",
    "    delta = source_tensor_size - target_tensor_size\n",
    "    delta = delta // 2\n",
    "\n",
    "    return source_tensor[:, delta:source_tensor_size - delta, delta:source_tensor_size - delta, :]"
   ]
  },
  {
   "cell_type": "markdown",
   "id": "bdb64da5ddf931a7",
   "metadata": {
    "collapsed": false
   },
   "source": [
    "### UNet Expansive block\n",
    "Transpose convolution which doubles the spatial dimensions (height and width) \n",
    "of the incoming feature maps and creates the skip connections with the corresponding \n",
    "feature maps from the contracting (downsample) path. These skip connections bring the feature maps \n",
    "from earlier layers helping the network to generate better semantic feature maps.\n",
    "\n",
    "Perform two unpadded convolutions with a specified number of filters \n",
    "and upsamples the incomming feature map."
   ]
  },
  {
   "cell_type": "code",
   "execution_count": 35,
   "id": "b40cb724d485ced5",
   "metadata": {
    "collapsed": false,
    "ExecuteTime": {
     "end_time": "2023-11-02T01:26:41.409297Z",
     "start_time": "2023-11-02T01:26:41.384707Z"
    }
   },
   "outputs": [],
   "source": [
    "def expansive_block(input_layer, skip_conn_layer, filters, padding, kernel_size = 3, strides = 1):\n",
    "    transConv = Conv2DTranspose(filters = filters,\n",
    "                                kernel_size = (2, 2),\n",
    "                                strides = 2,\n",
    "                                padding = padding)(input_layer)\n",
    "\n",
    "    if padding == \"valid\":\n",
    "        cropped = crop_tensor(skip_conn_layer, transConv)\n",
    "        concat = Concatenate()([transConv, cropped])\n",
    "    else:\n",
    "        concat = Concatenate()([transConv, skip_conn_layer])\n",
    "\n",
    "    # two 3x3 convolutions, each followed by a ReLU\n",
    "    up_conv = Conv2D(filters = filters,\n",
    "                     kernel_size = kernel_size,\n",
    "                     padding = padding,\n",
    "                     activation = 'relu')(concat)\n",
    "\n",
    "    up_conv = Conv2D(filters = filters,\n",
    "                     kernel_size = kernel_size,\n",
    "                     padding = padding,\n",
    "                     activation = 'relu')(up_conv)\n",
    "\n",
    "    return up_conv"
   ]
  },
  {
   "cell_type": "code",
   "execution_count": 36,
   "id": "initial_id",
   "metadata": {
    "collapsed": true,
    "jupyter": {
     "outputs_hidden": true
    },
    "ExecuteTime": {
     "end_time": "2023-11-02T01:26:45.820408Z",
     "start_time": "2023-11-02T01:26:45.808920Z"
    }
   },
   "outputs": [],
   "source": [
    "class Unet():\n",
    "    def __init__(self, input_shape = (572, 572, 1), filters = [64, 128, 256, 512, 1024], padding = \"valid\"):\n",
    "        \"\"\"\n",
    "        \n",
    "        Initialize the Unet framework and the model parameters - input_shape, \n",
    "        filters and padding type. \n",
    "        \n",
    "        Args:\n",
    "            input_shape: The shape of the input to the network. A tuple comprising of (img_height, img_width, channels).\n",
    "                         Original paper implementation is (572, 572, 1).\n",
    "            filters: a collection of filters denoting the number of components to be used at each blocks along the \n",
    "                     contracting and expansive paths. The original paper implementation for number of filters along the \n",
    "                     contracting and expansive paths are [64, 128, 256, 512, 1024].\n",
    "            padding: the padding type to be used during the convolution step. The original paper used unpadded convolutions \n",
    "                     which is of type \"valid\".\n",
    "         \n",
    "        **Remarks: The default values are as per the implementation in the original paper @ https://arxiv.org/pdf/1505.04597\n",
    "        \n",
    "        \"\"\"\n",
    "        self.input_shape = input_shape\n",
    "        self.filters = filters\n",
    "        self.padding = padding\n",
    "\n",
    "    def Build_UNetwork(self):\n",
    "\n",
    "        \"\"\"\n",
    "        Builds the Unet Model network.\n",
    "        \n",
    "        Args:\n",
    "            None\n",
    "         \n",
    "        Return:\n",
    "            The Unet Model.\n",
    "            \n",
    "        \"\"\"\n",
    "\n",
    "\n",
    "        UnetInput = Input(self.input_shape)\n",
    "\n",
    "        # the contracting path. \n",
    "        # the last item in the filetrs collection points to the number of filters in the bottleneck block.\n",
    "        conv1, pool1 = contracting_block(input_layer = UnetInput, filters = self.filters[0], padding = self.padding)\n",
    "        conv2, pool2 = contracting_block(input_layer = pool1, filters = self.filters[1], padding = self.padding)\n",
    "        conv3, pool3 = contracting_block(input_layer = pool2, filters = self.filters[2], padding = self.padding)\n",
    "        conv4, pool4 = contracting_block(input_layer = pool3, filters = self.filters[3], padding = self.padding)\n",
    "\n",
    "        # bottleneck block connecting the contracting and the expansive paths.\n",
    "        bottleNeck = bottleneck_block(pool4, filters = self.filters[4], padding = self.padding)\n",
    "\n",
    "        # the expansive path.\n",
    "        upConv1 = expansive_block(bottleNeck, conv4, filters = self.filters[3], padding = self.padding)\n",
    "        upConv2 = expansive_block(upConv1, conv3, filters = self.filters[2], padding = self.padding)\n",
    "        upConv3 = expansive_block(upConv2, conv2, filters = self.filters[1], padding = self.padding)\n",
    "        upConv4 = expansive_block(upConv3, conv1, filters = self.filters[0], padding = self.padding)\n",
    "\n",
    "        UnetOutput = Conv2D(1, (1, 1), padding = self.padding, activation = sigmoid)(upConv4)\n",
    "\n",
    "        model = Model(UnetInput, UnetOutput, name = \"UNet\")\n",
    "\n",
    "        return model\n",
    "\n",
    "    def CompileAndSummarizeModel(self, model, optimizer = \"adam\", loss = \"binary_crossentropy\"):\n",
    "\n",
    "        \"\"\"\n",
    "        Compiles and displays the model summary of the Unet model.\n",
    "        \n",
    "        Args:\n",
    "            model: The Unet model.\n",
    "            optimizer: model optimizer. Default is the adam optimizer.\n",
    "            loss: the loss function. Default is the binary cross entropy loss.\n",
    "            \n",
    "        Return:\n",
    "            None\n",
    "        \n",
    "        \"\"\"\n",
    "        model.compile(optimizer = optimizer, loss = loss, metrics = [\"acc\"])\n",
    "        model.summary()\n",
    "\n",
    "    def plotModel(self, model, to_file = 'unet.png', show_shapes = True, dpi = 96):\n",
    "\n",
    "        \"\"\"\n",
    "        Saves the Unet model to a file.\n",
    "        \n",
    "        Args:\n",
    "            model: the Unet model. \n",
    "            to_file: the file name to save the model. Default name - 'unet.png'.\n",
    "            show_shapes: whether to display shape information. Default = True.\n",
    "            dpi: dots per inch. Default value is 96.\n",
    "            \n",
    "        Return:\n",
    "            None\n",
    "        \n",
    "        \"\"\"\n",
    "\n",
    "        keras.utils.plot_model(model, to_file = to_file, show_shapes = show_shapes, dpi = dpi)"
   ]
  },
  {
   "cell_type": "code",
   "execution_count": 37,
   "id": "9e3eca92a586ca84",
   "metadata": {
    "collapsed": false,
    "ExecuteTime": {
     "end_time": "2023-11-02T01:26:46.297813Z",
     "start_time": "2023-11-02T01:26:46.289450Z"
    }
   },
   "outputs": [],
   "source": [
    "class NucleiDataGenerator(keras.utils.Sequence):\n",
    "\n",
    "    \"\"\"\n",
    "    The custom data generator class generates and feeds data to\n",
    "    the model dynamically in batches during the training phase.\n",
    "    \n",
    "    This generator generates batched of data for the dataset available @\n",
    "    Find the nuclei in divergent images to advance medical discovery -\n",
    "    https://www.kaggle.com/c/data-science-bowl-2018\n",
    "    \n",
    "    **\n",
    "    tf.keras.utils.Sequence is the root class for \n",
    "    Custom Data Generators.\n",
    "    **\n",
    "    \n",
    "    Args:\n",
    "        image_ids: the ids of the image.\n",
    "        img_path: the full path of the image directory.\n",
    "        batch_size: no. of images to be included in a batch feed. Default is set to 8.\n",
    "        image_size: size of the image. Default is set to 128 as per the data available.\n",
    "        \n",
    "    Ref: https://dzlab.github.io/dltips/en/keras/data-generator/\n",
    "    \n",
    "    \"\"\"\n",
    "    def __init__(self, image_ids, img_path, batch_size = 8, image_size = 128):\n",
    "\n",
    "        self.ids = image_ids\n",
    "        self.path = img_path\n",
    "        self.batch_size = batch_size\n",
    "        self.image_size = image_size\n",
    "        self.on_epoch_end()\n",
    "\n",
    "    def __load__(self, item):\n",
    "\n",
    "        \"\"\"\n",
    "        loads the specified image.\n",
    "        \n",
    "        \"\"\"\n",
    "\n",
    "        # the name for parent of parent directory where the image is located and the name of the image are same.\n",
    "        # an example directory breakup is shown below -\n",
    "        # - data-science-bowl-2018/\n",
    "        #      - stage1_train/\n",
    "        #          - abc\n",
    "        #             - image\n",
    "        #                  - abc\n",
    "        #             - mask\n",
    "        full_image_path = os.path.join(self.path, item, \"images\", item) + \".png\"\n",
    "        mask_dir_path = os.path.join(self.path, item, \"masks/\")\n",
    "        all_masks = os.listdir(mask_dir_path)\n",
    "\n",
    "        # load the images\n",
    "        image = cv2.imread(full_image_path, 1)\n",
    "        image = cv2.resize(image, (self.image_size, self.image_size))\n",
    "\n",
    "        masked_img = np.zeros((self.image_size, self.image_size, 1))\n",
    "\n",
    "        # load and prepare the corresponding mask.\n",
    "        for mask in all_masks:\n",
    "            fullPath = mask_dir_path + mask\n",
    "            _masked_img = cv2.imread(fullPath, -1)\n",
    "            _masked_img = cv2.resize(_masked_img, (self.image_size, self.image_size))\n",
    "            _masked_img = np.expand_dims(_masked_img, axis = -1)\n",
    "            masked_img = np.maximum(masked_img, _masked_img)\n",
    "\n",
    "        # mormalize the mask and the image. \n",
    "        image = image/255.0\n",
    "        masked_img = masked_img/255.0\n",
    "\n",
    "        return image, masked_img\n",
    "\n",
    "    def __getitem__(self, index):\n",
    "\n",
    "        \"\"\"\n",
    "        Returns a single batch of data.\n",
    "        \n",
    "        Args:\n",
    "            index: the batch index.\n",
    "        \n",
    "        \"\"\"\n",
    "\n",
    "        # edge case scenario where there are still some items left\n",
    "        # after segregatings the images into batches of size batch_size.\n",
    "        # the items left out will form one batch at the end.\n",
    "        if(index + 1) * self.batch_size > len(self.ids):\n",
    "            self.batch_size = len(self.ids) - index * self.batch_size\n",
    "\n",
    "        # group the items into a batch.\n",
    "        batch = self.ids[index * self.batch_size : (index + 1) * self.batch_size]\n",
    "\n",
    "        image = []\n",
    "        mask  = []\n",
    "\n",
    "        # load the items in the current batch\n",
    "        for item in batch:\n",
    "            img, masked_img = self.__load__(item)\n",
    "            image.append(img)\n",
    "            mask.append(masked_img)\n",
    "\n",
    "        image = np.array(image)\n",
    "        mask  = np.array(mask)\n",
    "\n",
    "        return image, mask\n",
    "\n",
    "    def on_epoch_end(self):\n",
    "\n",
    "        \"\"\"\n",
    "        optional method to run some logic at the end of each epoch: e.g. reshuffling\n",
    "        \n",
    "        \"\"\"\n",
    "\n",
    "        pass\n",
    "\n",
    "    def __len__(self):\n",
    "\n",
    "        \"\"\"\n",
    "        Returns the number of batches\n",
    "        \"\"\"\n",
    "        return int(np.ceil(len(self.ids)/float(self.batch_size)))\n"
   ]
  },
  {
   "cell_type": "code",
   "execution_count": 38,
   "id": "7f8a46687afaa734",
   "metadata": {
    "collapsed": false,
    "ExecuteTime": {
     "end_time": "2023-11-02T01:26:46.383224Z",
     "start_time": "2023-11-02T01:26:46.371590Z"
    }
   },
   "outputs": [],
   "source": [
    "image_size = 256\n",
    "image_channels = 3\n",
    "image_dir = \"data/train/\"\n",
    "epochs = 20\n",
    "batch_size = 8\n",
    "\n",
    "# there are a total of 670 items at the train_path directory.\n",
    "# so fixing 600 of data available for training set\n",
    "# 50 for validation set and 20 for test set.\n",
    "validation_data_size = 50\n",
    "test_data_size = 20\n",
    "train_data_size = 600"
   ]
  },
  {
   "cell_type": "code",
   "execution_count": 39,
   "outputs": [],
   "source": [
    "def VisualizeImageAndMask(image, mask, prediction_img = None):\n",
    "\n",
    "    \"\"\"\n",
    "    \n",
    "    Displays the image, mask and the predicted mask\n",
    "    of the input image.\n",
    "    \n",
    "    Args:\n",
    "        image: the original image.\n",
    "        mask: the given mask of the image.\n",
    "        prediction_img: the predicted mask of the image.\n",
    "        \n",
    "    Return:\n",
    "        None\n",
    "        \n",
    "    \"\"\"\n",
    "    fig = plt.figure()\n",
    "    fig.subplots_adjust(hspace = 0.6, wspace = 0.6)\n",
    "    fig.suptitle('Image & Mask(s)', fontsize = 15)\n",
    "    fig.subplots_adjust(top = 1.15)\n",
    "\n",
    "    ax = fig.add_subplot(1, 3, 1)\n",
    "    ax.imshow(image)\n",
    "    setTitleAndRemoveTicks(ax, 'Microscopic\\nImage')\n",
    "\n",
    "    ax = fig.add_subplot(1, 3, 2)\n",
    "    ax.imshow(np.reshape(mask, (image_size, image_size)), cmap = \"gray\")\n",
    "    setTitleAndRemoveTicks(ax, 'Original\\nMask')\n",
    "\n",
    "    if prediction_img is not None:\n",
    "        ax = fig.add_subplot(1, 3, 3)\n",
    "        ax.imshow(np.reshape(prediction_img, (image_size, image_size)), cmap = \"gray\")\n",
    "        setTitleAndRemoveTicks(ax, 'Predicted\\nMask')\n",
    "\n",
    "def setTitleAndRemoveTicks(axes, title):\n",
    "\n",
    "    \"\"\"\n",
    "    Sets the sub-plot title and removes the \n",
    "    x & y ticks on the respective axes.\n",
    "    \n",
    "    Args:\n",
    "        axes: the subplot.\n",
    "        title: title of the subplot.\n",
    "        \n",
    "    Return:\n",
    "        None\n",
    "        \n",
    "    \"\"\"\n",
    "\n",
    "    # set plot title\n",
    "    axes.title.set_text(title)\n",
    "\n",
    "    # remove the ticks\n",
    "    axes.set_xticks([])\n",
    "    axes.set_yticks([])"
   ],
   "metadata": {
    "collapsed": false,
    "ExecuteTime": {
     "end_time": "2023-11-02T01:26:46.465146Z",
     "start_time": "2023-11-02T01:26:46.454304Z"
    }
   },
   "id": "67cfca7b09792bbf"
  },
  {
   "cell_type": "code",
   "execution_count": 40,
   "outputs": [],
   "source": [
    "# get the ids of the images.\n",
    "# os.walk yields a 3-tuple (dirpath, dirnames, filenames). We need the directory names here.\n",
    "# the name for parent of parent directory where the image is located and the name of the image are same.\n",
    "# an example directory breakup is shown below -\n",
    "# - data-science-bowl-2018/\n",
    "#      - stage1_train/\n",
    "#          - abc\n",
    "#             - image\n",
    "#                  - abc\n",
    "#             - mask\n",
    "image_ids = next(os.walk(image_dir))[1]\n",
    "\n",
    "# partition the data into train, test and validation sets.\n",
    "testing_data_ids = image_ids[:test_data_size]\n",
    "validation_data_ids = image_ids[:validation_data_size]\n",
    "training_data_ids = image_ids[:train_data_size]"
   ],
   "metadata": {
    "collapsed": false,
    "ExecuteTime": {
     "end_time": "2023-11-02T01:26:46.547581Z",
     "start_time": "2023-11-02T01:26:46.535764Z"
    }
   },
   "id": "b90303a9a563689e"
  },
  {
   "cell_type": "code",
   "execution_count": 41,
   "outputs": [
    {
     "name": "stdout",
     "output_type": "stream",
     "text": [
      "Batch Dimension Details: (8, 256, 256, 3) (8, 256, 256, 1)\n"
     ]
    }
   ],
   "source": [
    "temp_data_generator = NucleiDataGenerator(image_ids = training_data_ids,\n",
    "                                          img_path = image_dir,\n",
    "                                          batch_size = batch_size,\n",
    "                                          image_size = image_size)\n",
    "\n",
    "# get one batch of data\n",
    "images, masks = temp_data_generator.__getitem__(0)\n",
    "print(\"Batch Dimension Details:\", images.shape, masks.shape)"
   ],
   "metadata": {
    "collapsed": false,
    "ExecuteTime": {
     "end_time": "2023-11-02T01:26:46.808528Z",
     "start_time": "2023-11-02T01:26:46.619180Z"
    }
   },
   "id": "615fd96456092f80"
  },
  {
   "cell_type": "code",
   "execution_count": 42,
   "outputs": [],
   "source": [
    "unet = Unet(input_shape = (image_size, image_size, image_channels),\n",
    "            filters = [16, 32, 64, 128, 256],\n",
    "            padding = \"same\")\n",
    "\n",
    "# call the build netowrk API to build the network.\n",
    "model = unet.Build_UNetwork()"
   ],
   "metadata": {
    "collapsed": false,
    "ExecuteTime": {
     "end_time": "2023-11-02T01:26:47.389293Z",
     "start_time": "2023-11-02T01:26:47.289164Z"
    }
   },
   "id": "63959e02112cd93d"
  },
  {
   "cell_type": "code",
   "execution_count": 43,
   "outputs": [
    {
     "name": "stdout",
     "output_type": "stream",
     "text": [
      "Model: \"UNet\"\n",
      "__________________________________________________________________________________________________\n",
      " Layer (type)                Output Shape                 Param #   Connected to                  \n",
      "==================================================================================================\n",
      " input_3 (InputLayer)        [(None, 256, 256, 3)]        0         []                            \n",
      "                                                                                                  \n",
      " conv2d_11 (Conv2D)          (None, 256, 256, 16)         448       ['input_3[0][0]']             \n",
      "                                                                                                  \n",
      " conv2d_12 (Conv2D)          (None, 256, 256, 16)         2320      ['conv2d_11[0][0]']           \n",
      "                                                                                                  \n",
      " max_pooling2d_4 (MaxPoolin  (None, 128, 128, 16)         0         ['conv2d_12[0][0]']           \n",
      " g2D)                                                                                             \n",
      "                                                                                                  \n",
      " conv2d_13 (Conv2D)          (None, 128, 128, 32)         4640      ['max_pooling2d_4[0][0]']     \n",
      "                                                                                                  \n",
      " conv2d_14 (Conv2D)          (None, 128, 128, 32)         9248      ['conv2d_13[0][0]']           \n",
      "                                                                                                  \n",
      " max_pooling2d_5 (MaxPoolin  (None, 64, 64, 32)           0         ['conv2d_14[0][0]']           \n",
      " g2D)                                                                                             \n",
      "                                                                                                  \n",
      " conv2d_15 (Conv2D)          (None, 64, 64, 64)           18496     ['max_pooling2d_5[0][0]']     \n",
      "                                                                                                  \n",
      " conv2d_16 (Conv2D)          (None, 64, 64, 64)           36928     ['conv2d_15[0][0]']           \n",
      "                                                                                                  \n",
      " max_pooling2d_6 (MaxPoolin  (None, 32, 32, 64)           0         ['conv2d_16[0][0]']           \n",
      " g2D)                                                                                             \n",
      "                                                                                                  \n",
      " conv2d_17 (Conv2D)          (None, 32, 32, 128)          73856     ['max_pooling2d_6[0][0]']     \n",
      "                                                                                                  \n",
      " conv2d_18 (Conv2D)          (None, 32, 32, 128)          147584    ['conv2d_17[0][0]']           \n",
      "                                                                                                  \n",
      " max_pooling2d_7 (MaxPoolin  (None, 16, 16, 128)          0         ['conv2d_18[0][0]']           \n",
      " g2D)                                                                                             \n",
      "                                                                                                  \n",
      " conv2d_19 (Conv2D)          (None, 16, 16, 256)          295168    ['max_pooling2d_7[0][0]']     \n",
      "                                                                                                  \n",
      " conv2d_20 (Conv2D)          (None, 16, 16, 256)          590080    ['conv2d_19[0][0]']           \n",
      "                                                                                                  \n",
      " conv2d_transpose (Conv2DTr  (None, 32, 32, 128)          131200    ['conv2d_20[0][0]']           \n",
      " anspose)                                                                                         \n",
      "                                                                                                  \n",
      " concatenate (Concatenate)   (None, 32, 32, 256)          0         ['conv2d_transpose[0][0]',    \n",
      "                                                                     'conv2d_18[0][0]']           \n",
      "                                                                                                  \n",
      " conv2d_21 (Conv2D)          (None, 32, 32, 128)          295040    ['concatenate[0][0]']         \n",
      "                                                                                                  \n",
      " conv2d_22 (Conv2D)          (None, 32, 32, 128)          147584    ['conv2d_21[0][0]']           \n",
      "                                                                                                  \n",
      " conv2d_transpose_1 (Conv2D  (None, 64, 64, 64)           32832     ['conv2d_22[0][0]']           \n",
      " Transpose)                                                                                       \n",
      "                                                                                                  \n",
      " concatenate_1 (Concatenate  (None, 64, 64, 128)          0         ['conv2d_transpose_1[0][0]',  \n",
      " )                                                                   'conv2d_16[0][0]']           \n",
      "                                                                                                  \n",
      " conv2d_23 (Conv2D)          (None, 64, 64, 64)           73792     ['concatenate_1[0][0]']       \n",
      "                                                                                                  \n",
      " conv2d_24 (Conv2D)          (None, 64, 64, 64)           36928     ['conv2d_23[0][0]']           \n",
      "                                                                                                  \n",
      " conv2d_transpose_2 (Conv2D  (None, 128, 128, 32)         8224      ['conv2d_24[0][0]']           \n",
      " Transpose)                                                                                       \n",
      "                                                                                                  \n",
      " concatenate_2 (Concatenate  (None, 128, 128, 64)         0         ['conv2d_transpose_2[0][0]',  \n",
      " )                                                                   'conv2d_14[0][0]']           \n",
      "                                                                                                  \n",
      " conv2d_25 (Conv2D)          (None, 128, 128, 32)         18464     ['concatenate_2[0][0]']       \n",
      "                                                                                                  \n",
      " conv2d_26 (Conv2D)          (None, 128, 128, 32)         9248      ['conv2d_25[0][0]']           \n",
      "                                                                                                  \n",
      " conv2d_transpose_3 (Conv2D  (None, 256, 256, 16)         2064      ['conv2d_26[0][0]']           \n",
      " Transpose)                                                                                       \n",
      "                                                                                                  \n",
      " concatenate_3 (Concatenate  (None, 256, 256, 32)         0         ['conv2d_transpose_3[0][0]',  \n",
      " )                                                                   'conv2d_12[0][0]']           \n",
      "                                                                                                  \n",
      " conv2d_27 (Conv2D)          (None, 256, 256, 16)         4624      ['concatenate_3[0][0]']       \n",
      "                                                                                                  \n",
      " conv2d_28 (Conv2D)          (None, 256, 256, 16)         2320      ['conv2d_27[0][0]']           \n",
      "                                                                                                  \n",
      " conv2d_29 (Conv2D)          (None, 256, 256, 1)          17        ['conv2d_28[0][0]']           \n",
      "                                                                                                  \n",
      "==================================================================================================\n",
      "Total params: 1941105 (7.40 MB)\n",
      "Trainable params: 1941105 (7.40 MB)\n",
      "Non-trainable params: 0 (0.00 Byte)\n",
      "__________________________________________________________________________________________________\n"
     ]
    }
   ],
   "source": [
    "# compile & summarize the model\n",
    "if model is not None:\n",
    "    unet.CompileAndSummarizeModel(model = model)"
   ],
   "metadata": {
    "collapsed": false,
    "ExecuteTime": {
     "end_time": "2023-11-02T01:27:00.756169Z",
     "start_time": "2023-11-02T01:27:00.696024Z"
    }
   },
   "id": "fe2acfa5a28ebdad"
  },
  {
   "cell_type": "code",
   "execution_count": 44,
   "outputs": [],
   "source": [
    "train_gen = NucleiDataGenerator(image_ids = training_data_ids,\n",
    "                                img_path = image_dir,\n",
    "                                image_size = image_size,\n",
    "                                batch_size = batch_size)\n",
    "\n",
    "valid_gen = NucleiDataGenerator(image_ids = validation_data_ids,\n",
    "                                img_path = image_dir,\n",
    "                                image_size = image_size,\n",
    "                                batch_size = batch_size)\n",
    "\n",
    "test_gen = NucleiDataGenerator(image_ids = testing_data_ids,\n",
    "                               img_path = image_dir,\n",
    "                               image_size = image_size,\n",
    "                               batch_size = batch_size)\n",
    "\n",
    "train_steps = len(training_data_ids)//batch_size\n",
    "valid_steps = len(validation_data_ids)//batch_size"
   ],
   "metadata": {
    "collapsed": false,
    "ExecuteTime": {
     "end_time": "2023-11-02T01:27:34.062239Z",
     "start_time": "2023-11-02T01:27:34.017450Z"
    }
   },
   "id": "6f888e425e7b3ff8"
  },
  {
   "cell_type": "markdown",
   "source": [
    "### Model Training"
   ],
   "metadata": {
    "collapsed": false
   },
   "id": "8e1df867931d6a2e"
  },
  {
   "cell_type": "code",
   "execution_count": 45,
   "outputs": [
    {
     "name": "stdout",
     "output_type": "stream",
     "text": [
      "Epoch 1/20\n",
      "75/75 [==============================] - 45s 592ms/step - loss: 0.3711 - acc: 0.8513 - val_loss: 0.2574 - val_acc: 0.8521\n",
      "Epoch 2/20\n",
      "75/75 [==============================] - 43s 576ms/step - loss: 0.2167 - acc: 0.8809 - val_loss: 0.1690 - val_acc: 0.9231\n",
      "Epoch 3/20\n",
      "75/75 [==============================] - 45s 600ms/step - loss: 0.1368 - acc: 0.9386 - val_loss: 0.1364 - val_acc: 0.9268\n",
      "Epoch 4/20\n",
      "75/75 [==============================] - 48s 631ms/step - loss: 0.0995 - acc: 0.9547 - val_loss: 0.1293 - val_acc: 0.9329\n",
      "Epoch 5/20\n",
      "75/75 [==============================] - 46s 608ms/step - loss: 0.0910 - acc: 0.9585 - val_loss: 0.0924 - val_acc: 0.9553\n",
      "Epoch 6/20\n",
      "75/75 [==============================] - 45s 598ms/step - loss: 0.0936 - acc: 0.9576 - val_loss: 0.1352 - val_acc: 0.9360\n",
      "Epoch 7/20\n",
      "75/75 [==============================] - 45s 602ms/step - loss: 0.0895 - acc: 0.9589 - val_loss: 0.0929 - val_acc: 0.9538\n",
      "Epoch 8/20\n",
      "75/75 [==============================] - 45s 592ms/step - loss: 0.0829 - acc: 0.9611 - val_loss: 0.0819 - val_acc: 0.9569\n",
      "Epoch 9/20\n",
      "75/75 [==============================] - 44s 587ms/step - loss: 0.0843 - acc: 0.9608 - val_loss: 0.0965 - val_acc: 0.9488\n",
      "Epoch 10/20\n",
      "75/75 [==============================] - 43s 575ms/step - loss: 0.0804 - acc: 0.9621 - val_loss: 0.1111 - val_acc: 0.9446\n",
      "Epoch 11/20\n",
      "75/75 [==============================] - 44s 577ms/step - loss: 0.0818 - acc: 0.9614 - val_loss: 0.1075 - val_acc: 0.9390\n",
      "Epoch 12/20\n",
      "75/75 [==============================] - 43s 570ms/step - loss: 0.0781 - acc: 0.9625 - val_loss: 0.0798 - val_acc: 0.9532\n",
      "Epoch 13/20\n",
      "75/75 [==============================] - 43s 565ms/step - loss: 0.0749 - acc: 0.9638 - val_loss: 0.0825 - val_acc: 0.9567\n",
      "Epoch 14/20\n",
      "75/75 [==============================] - 43s 574ms/step - loss: 0.0767 - acc: 0.9632 - val_loss: 0.0786 - val_acc: 0.9570\n",
      "Epoch 15/20\n",
      "75/75 [==============================] - 44s 587ms/step - loss: 0.0729 - acc: 0.9641 - val_loss: 0.0756 - val_acc: 0.9582\n",
      "Epoch 16/20\n",
      "75/75 [==============================] - 43s 576ms/step - loss: 0.0741 - acc: 0.9634 - val_loss: 0.0729 - val_acc: 0.9600\n",
      "Epoch 17/20\n",
      "75/75 [==============================] - 43s 577ms/step - loss: 0.0694 - acc: 0.9650 - val_loss: 0.0651 - val_acc: 0.9623\n",
      "Epoch 18/20\n",
      "75/75 [==============================] - 43s 575ms/step - loss: 0.0724 - acc: 0.9641 - val_loss: 0.0821 - val_acc: 0.9514\n",
      "Epoch 19/20\n",
      "75/75 [==============================] - 44s 578ms/step - loss: 0.0756 - acc: 0.9630 - val_loss: 0.1051 - val_acc: 0.9502\n",
      "Epoch 20/20\n",
      "75/75 [==============================] - 43s 579ms/step - loss: 0.0703 - acc: 0.9651 - val_loss: 0.0671 - val_acc: 0.9618\n"
     ]
    },
    {
     "data": {
      "text/plain": "<keras.src.callbacks.History at 0x287a5fca0>"
     },
     "execution_count": 45,
     "metadata": {},
     "output_type": "execute_result"
    }
   ],
   "source": [
    "model.fit(train_gen,\n",
    "          validation_data = valid_gen,\n",
    "          steps_per_epoch = train_steps,\n",
    "          validation_steps = valid_steps,\n",
    "          epochs = epochs)"
   ],
   "metadata": {
    "collapsed": false,
    "ExecuteTime": {
     "end_time": "2023-11-02T01:43:03.248269Z",
     "start_time": "2023-11-02T01:28:19.117671Z"
    }
   },
   "id": "fbc15d217e29a55"
  },
  {
   "cell_type": "markdown",
   "source": [
    "### Model Testing and Prediction Visualizations"
   ],
   "metadata": {
    "collapsed": false
   },
   "id": "ec729d6e0bab1dfb"
  },
  {
   "cell_type": "code",
   "execution_count": 51,
   "outputs": [
    {
     "name": "stdout",
     "output_type": "stream",
     "text": [
      "1/1 [==============================] - 0s 166ms/step\n"
     ]
    },
    {
     "data": {
      "text/plain": "<Figure size 640x480 with 3 Axes>",
      "image/png": "[encoded data removed]"
     },
     "metadata": {},
     "output_type": "display_data"
    }
   ],
   "source": [
    "# get the test set images\n",
    "test_images, test_masks = test_gen.__getitem__(1)\n",
    "predicted_masks = model.predict(test_images)\n",
    "\n",
    "predicted_masks = predicted_masks > 0.5\n",
    "\n",
    "VisualizeImageAndMask(image = test_images[1], mask = test_masks[1], prediction_img = predicted_masks[1])\n"
   ],
   "metadata": {
    "collapsed": false,
    "ExecuteTime": {
     "end_time": "2023-11-02T20:06:15.390404Z",
     "start_time": "2023-11-02T20:06:14.892793Z"
    }
   },
   "id": "f1c672b749d6c2db"
  },
  {
   "cell_type": "code",
   "execution_count": 54,
   "outputs": [
    {
     "name": "stdout",
     "output_type": "stream",
     "text": [
      "Evaluate on test data\n",
      "5/5 [==============================] - 1s 153ms/step - loss: 0.0501 - acc: 0.9724\n",
      "test loss, test acc: [0.05010734125971794, 0.9723861813545227]\n"
     ]
    }
   ],
   "source": [
    "# Evaluate the model on the test data using `evaluate`\n",
    "print(\"Evaluate on test data\")\n",
    "results = model.evaluate(test_gen)\n",
    "print(\"test loss, test acc:\", results)"
   ],
   "metadata": {
    "collapsed": false,
    "ExecuteTime": {
     "end_time": "2023-11-02T20:09:43.719998Z",
     "start_time": "2023-11-02T20:09:42.856764Z"
    }
   },
   "id": "edc2d9747f19f858"
  },
  {
   "cell_type": "code",
   "execution_count": null,
   "outputs": [],
   "source": [],
   "metadata": {
    "collapsed": false
   },
   "id": "db678893b16d40e7"
  }
 ],
 "metadata": {
  "kernelspec": {
   "display_name": "Python 3 (ipykernel)",
   "language": "python",
   "name": "python3"
  },
  "language_info": {
   "codemirror_mode": {
    "name": "ipython",
    "version": 3
   },
   "file_extension": ".py",
   "mimetype": "text/x-python",
   "name": "python",
   "nbconvert_exporter": "python",
   "pygments_lexer": "ipython3",
   "version": "3.10.12"
  }
 },
 "nbformat": 4,
 "nbformat_minor": 5
}
